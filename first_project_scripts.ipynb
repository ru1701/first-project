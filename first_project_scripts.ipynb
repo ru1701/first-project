{
 "cells": [
  {
   "cell_type": "markdown",
   "metadata": {
    "toc": true
   },
   "source": [
    "<h1>Содержание<span class=\"tocSkip\"></span></h1>\n",
    "<div class=\"toc\"><ul class=\"toc-item\"><li><span><a href=\"#Подготовка-данных\" data-toc-modified-id=\"Подготовка-данных-1\"><span class=\"toc-item-num\">1&nbsp;&nbsp;</span>Подготовка данных</a></span><ul class=\"toc-item\"><li><span><a href=\"#Проверка-качества-данных\" data-toc-modified-id=\"Проверка-качества-данных-1.1\"><span class=\"toc-item-num\">1.1&nbsp;&nbsp;</span>Проверка качества данных</a></span></li><li><span><a href=\"#Подготовка-данных\" data-toc-modified-id=\"Подготовка-данных-1.2\"><span class=\"toc-item-num\">1.2&nbsp;&nbsp;</span>Подготовка данных</a></span></li></ul></li><li><span><a href=\"#Исследование-задачи\" data-toc-modified-id=\"Исследование-задачи-2\"><span class=\"toc-item-num\">2&nbsp;&nbsp;</span>Исследование задачи</a></span></li><li><span><a href=\"#Борьба-с-дисбалансом\" data-toc-modified-id=\"Борьба-с-дисбалансом-3\"><span class=\"toc-item-num\">3&nbsp;&nbsp;</span>Борьба с дисбалансом</a></span></li><li><span><a href=\"#Тестирование-модели\" data-toc-modified-id=\"Тестирование-модели-4\"><span class=\"toc-item-num\">4&nbsp;&nbsp;</span>Тестирование модели</a></span></li><li><span><a href=\"#Чек-лист-готовности-проекта\" data-toc-modified-id=\"Чек-лист-готовности-проекта-5\"><span class=\"toc-item-num\">5&nbsp;&nbsp;</span>Чек-лист готовности проекта</a></span></li></ul></div>"
   ]
  },
  {
   "cell_type": "markdown",
   "metadata": {},
   "source": [
    "# Отток клиентов"
   ]
  },
  {
   "cell_type": "markdown",
   "metadata": {},
   "source": [
    "Из «Бета-Банка» стали уходить клиенты. Каждый месяц. Немного, но заметно. Банковские маркетологи посчитали: сохранять текущих клиентов дешевле, чем привлекать новых.\n",
    "\n",
    "Нужно спрогнозировать, уйдёт клиент из банка в ближайшее время или нет. Вам предоставлены исторические данные о поведении клиентов и расторжении договоров с банком. \n",
    "\n",
    "Постройте модель с предельно большим значением *F1*-меры. Чтобы сдать проект успешно, нужно довести метрику до 0.59. Проверьте *F1*-меру на тестовой выборке самостоятельно.\n",
    "\n",
    "Дополнительно измеряйте *AUC-ROC*, сравнивайте её значение с *F1*-мерой.\n",
    "\n",
    "Источник данных: [https://www.kaggle.com/barelydedicated/bank-customer-churn-modeling](https://www.kaggle.com/barelydedicated/bank-customer-churn-modeling)"
   ]
  },
  {
   "cell_type": "markdown",
   "metadata": {},
   "source": [
    "## Подготовка данных"
   ]
  },
  {
   "cell_type": "code",
   "execution_count": 39,
   "metadata": {},
   "outputs": [],
   "source": [
    "import pandas as pd\n",
    "import numpy as np\n",
    "from sklearn.model_selection import train_test_split\n",
    "from sklearn.utils import shuffle\n",
    "from sklearn.tree import DecisionTreeClassifier \n",
    "from sklearn.ensemble import RandomForestClassifier\n",
    "from sklearn.linear_model import LogisticRegression\n",
    "from sklearn.preprocessing import StandardScaler \n",
    "from sklearn.dummy import DummyClassifier\n",
    "\n",
    "from sklearn.metrics import f1_score, roc_auc_score, accuracy_score, roc_curve, recall_score\n",
    "import matplotlib.pyplot as plt\n",
    "\n",
    "pd.options.mode.chained_assignment = None"
   ]
  },
  {
   "cell_type": "code",
   "execution_count": 40,
   "metadata": {},
   "outputs": [],
   "source": [
    "data = pd.read_csv('/datasets/Churn.csv')"
   ]
  },
  {
   "cell_type": "code",
   "execution_count": 41,
   "metadata": {},
   "outputs": [
    {
     "data": {
      "text/html": [
       "<div>\n",
       "<style scoped>\n",
       "    .dataframe tbody tr th:only-of-type {\n",
       "        vertical-align: middle;\n",
       "    }\n",
       "\n",
       "    .dataframe tbody tr th {\n",
       "        vertical-align: top;\n",
       "    }\n",
       "\n",
       "    .dataframe thead th {\n",
       "        text-align: right;\n",
       "    }\n",
       "</style>\n",
       "<table border=\"1\" class=\"dataframe\">\n",
       "  <thead>\n",
       "    <tr style=\"text-align: right;\">\n",
       "      <th></th>\n",
       "      <th>RowNumber</th>\n",
       "      <th>CustomerId</th>\n",
       "      <th>Surname</th>\n",
       "      <th>CreditScore</th>\n",
       "      <th>Geography</th>\n",
       "      <th>Gender</th>\n",
       "      <th>Age</th>\n",
       "      <th>Tenure</th>\n",
       "      <th>Balance</th>\n",
       "      <th>NumOfProducts</th>\n",
       "      <th>HasCrCard</th>\n",
       "      <th>IsActiveMember</th>\n",
       "      <th>EstimatedSalary</th>\n",
       "      <th>Exited</th>\n",
       "    </tr>\n",
       "  </thead>\n",
       "  <tbody>\n",
       "    <tr>\n",
       "      <th>0</th>\n",
       "      <td>1</td>\n",
       "      <td>15634602</td>\n",
       "      <td>Hargrave</td>\n",
       "      <td>619</td>\n",
       "      <td>France</td>\n",
       "      <td>Female</td>\n",
       "      <td>42</td>\n",
       "      <td>2.0</td>\n",
       "      <td>0.00</td>\n",
       "      <td>1</td>\n",
       "      <td>1</td>\n",
       "      <td>1</td>\n",
       "      <td>101348.88</td>\n",
       "      <td>1</td>\n",
       "    </tr>\n",
       "    <tr>\n",
       "      <th>1</th>\n",
       "      <td>2</td>\n",
       "      <td>15647311</td>\n",
       "      <td>Hill</td>\n",
       "      <td>608</td>\n",
       "      <td>Spain</td>\n",
       "      <td>Female</td>\n",
       "      <td>41</td>\n",
       "      <td>1.0</td>\n",
       "      <td>83807.86</td>\n",
       "      <td>1</td>\n",
       "      <td>0</td>\n",
       "      <td>1</td>\n",
       "      <td>112542.58</td>\n",
       "      <td>0</td>\n",
       "    </tr>\n",
       "    <tr>\n",
       "      <th>2</th>\n",
       "      <td>3</td>\n",
       "      <td>15619304</td>\n",
       "      <td>Onio</td>\n",
       "      <td>502</td>\n",
       "      <td>France</td>\n",
       "      <td>Female</td>\n",
       "      <td>42</td>\n",
       "      <td>8.0</td>\n",
       "      <td>159660.80</td>\n",
       "      <td>3</td>\n",
       "      <td>1</td>\n",
       "      <td>0</td>\n",
       "      <td>113931.57</td>\n",
       "      <td>1</td>\n",
       "    </tr>\n",
       "    <tr>\n",
       "      <th>3</th>\n",
       "      <td>4</td>\n",
       "      <td>15701354</td>\n",
       "      <td>Boni</td>\n",
       "      <td>699</td>\n",
       "      <td>France</td>\n",
       "      <td>Female</td>\n",
       "      <td>39</td>\n",
       "      <td>1.0</td>\n",
       "      <td>0.00</td>\n",
       "      <td>2</td>\n",
       "      <td>0</td>\n",
       "      <td>0</td>\n",
       "      <td>93826.63</td>\n",
       "      <td>0</td>\n",
       "    </tr>\n",
       "    <tr>\n",
       "      <th>4</th>\n",
       "      <td>5</td>\n",
       "      <td>15737888</td>\n",
       "      <td>Mitchell</td>\n",
       "      <td>850</td>\n",
       "      <td>Spain</td>\n",
       "      <td>Female</td>\n",
       "      <td>43</td>\n",
       "      <td>2.0</td>\n",
       "      <td>125510.82</td>\n",
       "      <td>1</td>\n",
       "      <td>1</td>\n",
       "      <td>1</td>\n",
       "      <td>79084.10</td>\n",
       "      <td>0</td>\n",
       "    </tr>\n",
       "  </tbody>\n",
       "</table>\n",
       "</div>"
      ],
      "text/plain": [
       "   RowNumber  CustomerId   Surname  CreditScore Geography  Gender  Age  \\\n",
       "0          1    15634602  Hargrave          619    France  Female   42   \n",
       "1          2    15647311      Hill          608     Spain  Female   41   \n",
       "2          3    15619304      Onio          502    France  Female   42   \n",
       "3          4    15701354      Boni          699    France  Female   39   \n",
       "4          5    15737888  Mitchell          850     Spain  Female   43   \n",
       "\n",
       "   Tenure    Balance  NumOfProducts  HasCrCard  IsActiveMember  \\\n",
       "0     2.0       0.00              1          1               1   \n",
       "1     1.0   83807.86              1          0               1   \n",
       "2     8.0  159660.80              3          1               0   \n",
       "3     1.0       0.00              2          0               0   \n",
       "4     2.0  125510.82              1          1               1   \n",
       "\n",
       "   EstimatedSalary  Exited  \n",
       "0        101348.88       1  \n",
       "1        112542.58       0  \n",
       "2        113931.57       1  \n",
       "3         93826.63       0  \n",
       "4         79084.10       0  "
      ]
     },
     "execution_count": 41,
     "metadata": {},
     "output_type": "execute_result"
    }
   ],
   "source": [
    "data.head()"
   ]
  },
  {
   "cell_type": "code",
   "execution_count": 42,
   "metadata": {},
   "outputs": [
    {
     "name": "stdout",
     "output_type": "stream",
     "text": [
      "<class 'pandas.core.frame.DataFrame'>\n",
      "RangeIndex: 10000 entries, 0 to 9999\n",
      "Data columns (total 14 columns):\n",
      " #   Column           Non-Null Count  Dtype  \n",
      "---  ------           --------------  -----  \n",
      " 0   RowNumber        10000 non-null  int64  \n",
      " 1   CustomerId       10000 non-null  int64  \n",
      " 2   Surname          10000 non-null  object \n",
      " 3   CreditScore      10000 non-null  int64  \n",
      " 4   Geography        10000 non-null  object \n",
      " 5   Gender           10000 non-null  object \n",
      " 6   Age              10000 non-null  int64  \n",
      " 7   Tenure           9091 non-null   float64\n",
      " 8   Balance          10000 non-null  float64\n",
      " 9   NumOfProducts    10000 non-null  int64  \n",
      " 10  HasCrCard        10000 non-null  int64  \n",
      " 11  IsActiveMember   10000 non-null  int64  \n",
      " 12  EstimatedSalary  10000 non-null  float64\n",
      " 13  Exited           10000 non-null  int64  \n",
      "dtypes: float64(3), int64(8), object(3)\n",
      "memory usage: 1.1+ MB\n"
     ]
    }
   ],
   "source": [
    "data.info()"
   ]
  },
  {
   "cell_type": "markdown",
   "metadata": {},
   "source": [
    "### Проверка качества данных"
   ]
  },
  {
   "cell_type": "markdown",
   "metadata": {},
   "source": [
    "**Поиск дубликатов**"
   ]
  },
  {
   "cell_type": "code",
   "execution_count": 43,
   "metadata": {},
   "outputs": [
    {
     "data": {
      "text/plain": [
       "0"
      ]
     },
     "execution_count": 43,
     "metadata": {},
     "output_type": "execute_result"
    }
   ],
   "source": [
    "#==================\n",
    "#  Полные дубликаты\n",
    "#==================\n",
    "\n",
    "data.duplicated().sum()"
   ]
  },
  {
   "cell_type": "code",
   "execution_count": 44,
   "metadata": {},
   "outputs": [
    {
     "data": {
      "text/plain": [
       "0"
      ]
     },
     "execution_count": 44,
     "metadata": {},
     "output_type": "execute_result"
    }
   ],
   "source": [
    "#=========================\n",
    "#  Дубликаты по CustomerId\n",
    "#=========================\n",
    "\n",
    "data.duplicated(subset=['CustomerId']).sum()"
   ]
  },
  {
   "cell_type": "markdown",
   "metadata": {},
   "source": [
    "**Обработка пропусков**"
   ]
  },
  {
   "cell_type": "code",
   "execution_count": 45,
   "metadata": {},
   "outputs": [
    {
     "data": {
      "text/plain": [
       "1.0     0.0952\n",
       "2.0     0.0950\n",
       "8.0     0.0933\n",
       "3.0     0.0928\n",
       "5.0     0.0927\n",
       "7.0     0.0925\n",
       "NaN     0.0909\n",
       "4.0     0.0885\n",
       "9.0     0.0882\n",
       "6.0     0.0881\n",
       "10.0    0.0446\n",
       "0.0     0.0382\n",
       "Name: Tenure, dtype: float64"
      ]
     },
     "execution_count": 45,
     "metadata": {},
     "output_type": "execute_result"
    }
   ],
   "source": [
    "data.Tenure.value_counts(dropna=False, normalize=True)"
   ]
  },
  {
   "cell_type": "markdown",
   "metadata": {},
   "source": [
    "**Вывод:**<br>\n",
    "Колонка <code>Tenure</code> содержит примерно 9% пропусков (909 штук)\n",
    "\n",
    "<ins>*Рекомендация*</ins>: <br>\n",
    "Заполнить пропуски медианным значеним"
   ]
  },
  {
   "cell_type": "code",
   "execution_count": 46,
   "metadata": {},
   "outputs": [],
   "source": [
    "data['Tenure'] = data['Tenure'].fillna(data['Tenure'].median())"
   ]
  },
  {
   "cell_type": "markdown",
   "metadata": {},
   "source": [
    "**Проверка на выбросы**"
   ]
  },
  {
   "cell_type": "code",
   "execution_count": 47,
   "metadata": {},
   "outputs": [
    {
     "data": {
      "text/html": [
       "<div>\n",
       "<style scoped>\n",
       "    .dataframe tbody tr th:only-of-type {\n",
       "        vertical-align: middle;\n",
       "    }\n",
       "\n",
       "    .dataframe tbody tr th {\n",
       "        vertical-align: top;\n",
       "    }\n",
       "\n",
       "    .dataframe thead th {\n",
       "        text-align: right;\n",
       "    }\n",
       "</style>\n",
       "<table border=\"1\" class=\"dataframe\">\n",
       "  <thead>\n",
       "    <tr style=\"text-align: right;\">\n",
       "      <th></th>\n",
       "      <th>RowNumber</th>\n",
       "      <th>CustomerId</th>\n",
       "      <th>CreditScore</th>\n",
       "      <th>Age</th>\n",
       "      <th>Tenure</th>\n",
       "      <th>Balance</th>\n",
       "      <th>NumOfProducts</th>\n",
       "      <th>HasCrCard</th>\n",
       "      <th>IsActiveMember</th>\n",
       "      <th>EstimatedSalary</th>\n",
       "      <th>Exited</th>\n",
       "    </tr>\n",
       "  </thead>\n",
       "  <tbody>\n",
       "    <tr>\n",
       "      <th>count</th>\n",
       "      <td>10000.00000</td>\n",
       "      <td>1.000000e+04</td>\n",
       "      <td>10000.000000</td>\n",
       "      <td>10000.000000</td>\n",
       "      <td>10000.00000</td>\n",
       "      <td>10000.000000</td>\n",
       "      <td>10000.000000</td>\n",
       "      <td>10000.00000</td>\n",
       "      <td>10000.000000</td>\n",
       "      <td>10000.000000</td>\n",
       "      <td>10000.000000</td>\n",
       "    </tr>\n",
       "    <tr>\n",
       "      <th>mean</th>\n",
       "      <td>5000.50000</td>\n",
       "      <td>1.569094e+07</td>\n",
       "      <td>650.528800</td>\n",
       "      <td>38.921800</td>\n",
       "      <td>4.99790</td>\n",
       "      <td>76485.889288</td>\n",
       "      <td>1.530200</td>\n",
       "      <td>0.70550</td>\n",
       "      <td>0.515100</td>\n",
       "      <td>100090.239881</td>\n",
       "      <td>0.203700</td>\n",
       "    </tr>\n",
       "    <tr>\n",
       "      <th>std</th>\n",
       "      <td>2886.89568</td>\n",
       "      <td>7.193619e+04</td>\n",
       "      <td>96.653299</td>\n",
       "      <td>10.487806</td>\n",
       "      <td>2.76001</td>\n",
       "      <td>62397.405202</td>\n",
       "      <td>0.581654</td>\n",
       "      <td>0.45584</td>\n",
       "      <td>0.499797</td>\n",
       "      <td>57510.492818</td>\n",
       "      <td>0.402769</td>\n",
       "    </tr>\n",
       "    <tr>\n",
       "      <th>min</th>\n",
       "      <td>1.00000</td>\n",
       "      <td>1.556570e+07</td>\n",
       "      <td>350.000000</td>\n",
       "      <td>18.000000</td>\n",
       "      <td>0.00000</td>\n",
       "      <td>0.000000</td>\n",
       "      <td>1.000000</td>\n",
       "      <td>0.00000</td>\n",
       "      <td>0.000000</td>\n",
       "      <td>11.580000</td>\n",
       "      <td>0.000000</td>\n",
       "    </tr>\n",
       "    <tr>\n",
       "      <th>10%</th>\n",
       "      <td>1000.90000</td>\n",
       "      <td>1.559117e+07</td>\n",
       "      <td>521.000000</td>\n",
       "      <td>27.000000</td>\n",
       "      <td>1.00000</td>\n",
       "      <td>0.000000</td>\n",
       "      <td>1.000000</td>\n",
       "      <td>0.00000</td>\n",
       "      <td>0.000000</td>\n",
       "      <td>20273.580000</td>\n",
       "      <td>0.000000</td>\n",
       "    </tr>\n",
       "    <tr>\n",
       "      <th>25%</th>\n",
       "      <td>2500.75000</td>\n",
       "      <td>1.562853e+07</td>\n",
       "      <td>584.000000</td>\n",
       "      <td>32.000000</td>\n",
       "      <td>3.00000</td>\n",
       "      <td>0.000000</td>\n",
       "      <td>1.000000</td>\n",
       "      <td>0.00000</td>\n",
       "      <td>0.000000</td>\n",
       "      <td>51002.110000</td>\n",
       "      <td>0.000000</td>\n",
       "    </tr>\n",
       "    <tr>\n",
       "      <th>50%</th>\n",
       "      <td>5000.50000</td>\n",
       "      <td>1.569074e+07</td>\n",
       "      <td>652.000000</td>\n",
       "      <td>37.000000</td>\n",
       "      <td>5.00000</td>\n",
       "      <td>97198.540000</td>\n",
       "      <td>1.000000</td>\n",
       "      <td>1.00000</td>\n",
       "      <td>1.000000</td>\n",
       "      <td>100193.915000</td>\n",
       "      <td>0.000000</td>\n",
       "    </tr>\n",
       "    <tr>\n",
       "      <th>75%</th>\n",
       "      <td>7500.25000</td>\n",
       "      <td>1.575323e+07</td>\n",
       "      <td>718.000000</td>\n",
       "      <td>44.000000</td>\n",
       "      <td>7.00000</td>\n",
       "      <td>127644.240000</td>\n",
       "      <td>2.000000</td>\n",
       "      <td>1.00000</td>\n",
       "      <td>1.000000</td>\n",
       "      <td>149388.247500</td>\n",
       "      <td>0.000000</td>\n",
       "    </tr>\n",
       "    <tr>\n",
       "      <th>90%</th>\n",
       "      <td>9000.10000</td>\n",
       "      <td>1.579083e+07</td>\n",
       "      <td>778.000000</td>\n",
       "      <td>53.000000</td>\n",
       "      <td>9.00000</td>\n",
       "      <td>149244.792000</td>\n",
       "      <td>2.000000</td>\n",
       "      <td>1.00000</td>\n",
       "      <td>1.000000</td>\n",
       "      <td>179674.704000</td>\n",
       "      <td>1.000000</td>\n",
       "    </tr>\n",
       "    <tr>\n",
       "      <th>max</th>\n",
       "      <td>10000.00000</td>\n",
       "      <td>1.581569e+07</td>\n",
       "      <td>850.000000</td>\n",
       "      <td>92.000000</td>\n",
       "      <td>10.00000</td>\n",
       "      <td>250898.090000</td>\n",
       "      <td>4.000000</td>\n",
       "      <td>1.00000</td>\n",
       "      <td>1.000000</td>\n",
       "      <td>199992.480000</td>\n",
       "      <td>1.000000</td>\n",
       "    </tr>\n",
       "  </tbody>\n",
       "</table>\n",
       "</div>"
      ],
      "text/plain": [
       "         RowNumber    CustomerId   CreditScore           Age       Tenure  \\\n",
       "count  10000.00000  1.000000e+04  10000.000000  10000.000000  10000.00000   \n",
       "mean    5000.50000  1.569094e+07    650.528800     38.921800      4.99790   \n",
       "std     2886.89568  7.193619e+04     96.653299     10.487806      2.76001   \n",
       "min        1.00000  1.556570e+07    350.000000     18.000000      0.00000   \n",
       "10%     1000.90000  1.559117e+07    521.000000     27.000000      1.00000   \n",
       "25%     2500.75000  1.562853e+07    584.000000     32.000000      3.00000   \n",
       "50%     5000.50000  1.569074e+07    652.000000     37.000000      5.00000   \n",
       "75%     7500.25000  1.575323e+07    718.000000     44.000000      7.00000   \n",
       "90%     9000.10000  1.579083e+07    778.000000     53.000000      9.00000   \n",
       "max    10000.00000  1.581569e+07    850.000000     92.000000     10.00000   \n",
       "\n",
       "             Balance  NumOfProducts    HasCrCard  IsActiveMember  \\\n",
       "count   10000.000000   10000.000000  10000.00000    10000.000000   \n",
       "mean    76485.889288       1.530200      0.70550        0.515100   \n",
       "std     62397.405202       0.581654      0.45584        0.499797   \n",
       "min         0.000000       1.000000      0.00000        0.000000   \n",
       "10%         0.000000       1.000000      0.00000        0.000000   \n",
       "25%         0.000000       1.000000      0.00000        0.000000   \n",
       "50%     97198.540000       1.000000      1.00000        1.000000   \n",
       "75%    127644.240000       2.000000      1.00000        1.000000   \n",
       "90%    149244.792000       2.000000      1.00000        1.000000   \n",
       "max    250898.090000       4.000000      1.00000        1.000000   \n",
       "\n",
       "       EstimatedSalary        Exited  \n",
       "count     10000.000000  10000.000000  \n",
       "mean     100090.239881      0.203700  \n",
       "std       57510.492818      0.402769  \n",
       "min          11.580000      0.000000  \n",
       "10%       20273.580000      0.000000  \n",
       "25%       51002.110000      0.000000  \n",
       "50%      100193.915000      0.000000  \n",
       "75%      149388.247500      0.000000  \n",
       "90%      179674.704000      1.000000  \n",
       "max      199992.480000      1.000000  "
      ]
     },
     "execution_count": 47,
     "metadata": {},
     "output_type": "execute_result"
    }
   ],
   "source": [
    "percenliles = [0.1, 0.25, 0.5, 0.75, 0.9]\n",
    "data.describe(percenliles)"
   ]
  },
  {
   "cell_type": "markdown",
   "metadata": {},
   "source": [
    "**Вывод:**<br>\n",
    "Выбросов не обнаружено"
   ]
  },
  {
   "cell_type": "markdown",
   "metadata": {},
   "source": [
    "### Подготовка данных"
   ]
  },
  {
   "cell_type": "code",
   "execution_count": 48,
   "metadata": {},
   "outputs": [
    {
     "data": {
      "text/html": [
       "<div>\n",
       "<style scoped>\n",
       "    .dataframe tbody tr th:only-of-type {\n",
       "        vertical-align: middle;\n",
       "    }\n",
       "\n",
       "    .dataframe tbody tr th {\n",
       "        vertical-align: top;\n",
       "    }\n",
       "\n",
       "    .dataframe thead th {\n",
       "        text-align: right;\n",
       "    }\n",
       "</style>\n",
       "<table border=\"1\" class=\"dataframe\">\n",
       "  <thead>\n",
       "    <tr style=\"text-align: right;\">\n",
       "      <th></th>\n",
       "      <th>RowNumber</th>\n",
       "      <th>CustomerId</th>\n",
       "      <th>Surname</th>\n",
       "      <th>CreditScore</th>\n",
       "      <th>Geography</th>\n",
       "      <th>Gender</th>\n",
       "      <th>Age</th>\n",
       "      <th>Tenure</th>\n",
       "      <th>Balance</th>\n",
       "      <th>NumOfProducts</th>\n",
       "      <th>HasCrCard</th>\n",
       "      <th>IsActiveMember</th>\n",
       "      <th>EstimatedSalary</th>\n",
       "      <th>Exited</th>\n",
       "    </tr>\n",
       "  </thead>\n",
       "  <tbody>\n",
       "    <tr>\n",
       "      <th>0</th>\n",
       "      <td>1</td>\n",
       "      <td>15634602</td>\n",
       "      <td>Hargrave</td>\n",
       "      <td>619</td>\n",
       "      <td>France</td>\n",
       "      <td>Female</td>\n",
       "      <td>42</td>\n",
       "      <td>2.0</td>\n",
       "      <td>0.00</td>\n",
       "      <td>1</td>\n",
       "      <td>1</td>\n",
       "      <td>1</td>\n",
       "      <td>101348.88</td>\n",
       "      <td>1</td>\n",
       "    </tr>\n",
       "    <tr>\n",
       "      <th>1</th>\n",
       "      <td>2</td>\n",
       "      <td>15647311</td>\n",
       "      <td>Hill</td>\n",
       "      <td>608</td>\n",
       "      <td>Spain</td>\n",
       "      <td>Female</td>\n",
       "      <td>41</td>\n",
       "      <td>1.0</td>\n",
       "      <td>83807.86</td>\n",
       "      <td>1</td>\n",
       "      <td>0</td>\n",
       "      <td>1</td>\n",
       "      <td>112542.58</td>\n",
       "      <td>0</td>\n",
       "    </tr>\n",
       "    <tr>\n",
       "      <th>2</th>\n",
       "      <td>3</td>\n",
       "      <td>15619304</td>\n",
       "      <td>Onio</td>\n",
       "      <td>502</td>\n",
       "      <td>France</td>\n",
       "      <td>Female</td>\n",
       "      <td>42</td>\n",
       "      <td>8.0</td>\n",
       "      <td>159660.80</td>\n",
       "      <td>3</td>\n",
       "      <td>1</td>\n",
       "      <td>0</td>\n",
       "      <td>113931.57</td>\n",
       "      <td>1</td>\n",
       "    </tr>\n",
       "    <tr>\n",
       "      <th>3</th>\n",
       "      <td>4</td>\n",
       "      <td>15701354</td>\n",
       "      <td>Boni</td>\n",
       "      <td>699</td>\n",
       "      <td>France</td>\n",
       "      <td>Female</td>\n",
       "      <td>39</td>\n",
       "      <td>1.0</td>\n",
       "      <td>0.00</td>\n",
       "      <td>2</td>\n",
       "      <td>0</td>\n",
       "      <td>0</td>\n",
       "      <td>93826.63</td>\n",
       "      <td>0</td>\n",
       "    </tr>\n",
       "    <tr>\n",
       "      <th>4</th>\n",
       "      <td>5</td>\n",
       "      <td>15737888</td>\n",
       "      <td>Mitchell</td>\n",
       "      <td>850</td>\n",
       "      <td>Spain</td>\n",
       "      <td>Female</td>\n",
       "      <td>43</td>\n",
       "      <td>2.0</td>\n",
       "      <td>125510.82</td>\n",
       "      <td>1</td>\n",
       "      <td>1</td>\n",
       "      <td>1</td>\n",
       "      <td>79084.10</td>\n",
       "      <td>0</td>\n",
       "    </tr>\n",
       "  </tbody>\n",
       "</table>\n",
       "</div>"
      ],
      "text/plain": [
       "   RowNumber  CustomerId   Surname  CreditScore Geography  Gender  Age  \\\n",
       "0          1    15634602  Hargrave          619    France  Female   42   \n",
       "1          2    15647311      Hill          608     Spain  Female   41   \n",
       "2          3    15619304      Onio          502    France  Female   42   \n",
       "3          4    15701354      Boni          699    France  Female   39   \n",
       "4          5    15737888  Mitchell          850     Spain  Female   43   \n",
       "\n",
       "   Tenure    Balance  NumOfProducts  HasCrCard  IsActiveMember  \\\n",
       "0     2.0       0.00              1          1               1   \n",
       "1     1.0   83807.86              1          0               1   \n",
       "2     8.0  159660.80              3          1               0   \n",
       "3     1.0       0.00              2          0               0   \n",
       "4     2.0  125510.82              1          1               1   \n",
       "\n",
       "   EstimatedSalary  Exited  \n",
       "0        101348.88       1  \n",
       "1        112542.58       0  \n",
       "2        113931.57       1  \n",
       "3         93826.63       0  \n",
       "4         79084.10       0  "
      ]
     },
     "execution_count": 48,
     "metadata": {},
     "output_type": "execute_result"
    }
   ],
   "source": [
    "data.head()"
   ]
  },
  {
   "cell_type": "markdown",
   "metadata": {},
   "source": [
    "**Удаление ненужных колонок**"
   ]
  },
  {
   "cell_type": "code",
   "execution_count": 49,
   "metadata": {},
   "outputs": [],
   "source": [
    "unnecessary_columns = ['RowNumber', 'Surname', 'CustomerId']\n",
    "data = data.drop(unnecessary_columns, axis=1)"
   ]
  },
  {
   "cell_type": "markdown",
   "metadata": {},
   "source": [
    "**Обработка категориальных переменных**"
   ]
  },
  {
   "cell_type": "code",
   "execution_count": 50,
   "metadata": {},
   "outputs": [],
   "source": [
    "data_ohe = pd.get_dummies(data, columns=['Gender'], drop_first=True)\n",
    "data_ohe = pd.get_dummies(data_ohe, columns=['Geography'])"
   ]
  },
  {
   "cell_type": "code",
   "execution_count": 51,
   "metadata": {},
   "outputs": [
    {
     "data": {
      "text/html": [
       "<div>\n",
       "<style scoped>\n",
       "    .dataframe tbody tr th:only-of-type {\n",
       "        vertical-align: middle;\n",
       "    }\n",
       "\n",
       "    .dataframe tbody tr th {\n",
       "        vertical-align: top;\n",
       "    }\n",
       "\n",
       "    .dataframe thead th {\n",
       "        text-align: right;\n",
       "    }\n",
       "</style>\n",
       "<table border=\"1\" class=\"dataframe\">\n",
       "  <thead>\n",
       "    <tr style=\"text-align: right;\">\n",
       "      <th></th>\n",
       "      <th>CreditScore</th>\n",
       "      <th>Age</th>\n",
       "      <th>Tenure</th>\n",
       "      <th>Balance</th>\n",
       "      <th>NumOfProducts</th>\n",
       "      <th>HasCrCard</th>\n",
       "      <th>IsActiveMember</th>\n",
       "      <th>EstimatedSalary</th>\n",
       "      <th>Exited</th>\n",
       "      <th>Gender_Male</th>\n",
       "      <th>Geography_France</th>\n",
       "      <th>Geography_Germany</th>\n",
       "      <th>Geography_Spain</th>\n",
       "    </tr>\n",
       "  </thead>\n",
       "  <tbody>\n",
       "    <tr>\n",
       "      <th>1600</th>\n",
       "      <td>517</td>\n",
       "      <td>28</td>\n",
       "      <td>2.0</td>\n",
       "      <td>115062.61</td>\n",
       "      <td>1</td>\n",
       "      <td>1</td>\n",
       "      <td>0</td>\n",
       "      <td>179056.23</td>\n",
       "      <td>0</td>\n",
       "      <td>1</td>\n",
       "      <td>1</td>\n",
       "      <td>0</td>\n",
       "      <td>0</td>\n",
       "    </tr>\n",
       "    <tr>\n",
       "      <th>4604</th>\n",
       "      <td>681</td>\n",
       "      <td>25</td>\n",
       "      <td>5.0</td>\n",
       "      <td>0.00</td>\n",
       "      <td>1</td>\n",
       "      <td>0</td>\n",
       "      <td>1</td>\n",
       "      <td>90860.97</td>\n",
       "      <td>0</td>\n",
       "      <td>1</td>\n",
       "      <td>1</td>\n",
       "      <td>0</td>\n",
       "      <td>0</td>\n",
       "    </tr>\n",
       "    <tr>\n",
       "      <th>7736</th>\n",
       "      <td>649</td>\n",
       "      <td>41</td>\n",
       "      <td>3.0</td>\n",
       "      <td>130931.83</td>\n",
       "      <td>1</td>\n",
       "      <td>1</td>\n",
       "      <td>1</td>\n",
       "      <td>144808.37</td>\n",
       "      <td>0</td>\n",
       "      <td>0</td>\n",
       "      <td>1</td>\n",
       "      <td>0</td>\n",
       "      <td>0</td>\n",
       "    </tr>\n",
       "    <tr>\n",
       "      <th>5073</th>\n",
       "      <td>644</td>\n",
       "      <td>34</td>\n",
       "      <td>9.0</td>\n",
       "      <td>112746.54</td>\n",
       "      <td>2</td>\n",
       "      <td>0</td>\n",
       "      <td>0</td>\n",
       "      <td>141230.07</td>\n",
       "      <td>0</td>\n",
       "      <td>1</td>\n",
       "      <td>0</td>\n",
       "      <td>1</td>\n",
       "      <td>0</td>\n",
       "    </tr>\n",
       "    <tr>\n",
       "      <th>8490</th>\n",
       "      <td>746</td>\n",
       "      <td>48</td>\n",
       "      <td>5.0</td>\n",
       "      <td>165282.42</td>\n",
       "      <td>1</td>\n",
       "      <td>1</td>\n",
       "      <td>0</td>\n",
       "      <td>153786.46</td>\n",
       "      <td>1</td>\n",
       "      <td>1</td>\n",
       "      <td>1</td>\n",
       "      <td>0</td>\n",
       "      <td>0</td>\n",
       "    </tr>\n",
       "  </tbody>\n",
       "</table>\n",
       "</div>"
      ],
      "text/plain": [
       "      CreditScore  Age  Tenure    Balance  NumOfProducts  HasCrCard  \\\n",
       "1600          517   28     2.0  115062.61              1          1   \n",
       "4604          681   25     5.0       0.00              1          0   \n",
       "7736          649   41     3.0  130931.83              1          1   \n",
       "5073          644   34     9.0  112746.54              2          0   \n",
       "8490          746   48     5.0  165282.42              1          1   \n",
       "\n",
       "      IsActiveMember  EstimatedSalary  Exited  Gender_Male  Geography_France  \\\n",
       "1600               0        179056.23       0            1                 1   \n",
       "4604               1         90860.97       0            1                 1   \n",
       "7736               1        144808.37       0            0                 1   \n",
       "5073               0        141230.07       0            1                 0   \n",
       "8490               0        153786.46       1            1                 1   \n",
       "\n",
       "      Geography_Germany  Geography_Spain  \n",
       "1600                  0                0  \n",
       "4604                  0                0  \n",
       "7736                  0                0  \n",
       "5073                  1                0  \n",
       "8490                  0                0  "
      ]
     },
     "execution_count": 51,
     "metadata": {},
     "output_type": "execute_result"
    }
   ],
   "source": [
    "data_ohe.sample(5)"
   ]
  },
  {
   "cell_type": "markdown",
   "metadata": {},
   "source": [
    "**Разбиение выборки**"
   ]
  },
  {
   "cell_type": "code",
   "execution_count": 52,
   "metadata": {},
   "outputs": [],
   "source": [
    "X = data_ohe.drop(['Exited'], axis=1)\n",
    "y = data_ohe['Exited']\n",
    "\n",
    "X_train, X_test_valid, y_train, y_test_valid = train_test_split(X, y, test_size=0.4, random_state=1234)\n",
    "X_valid, X_test, y_valid, y_test = train_test_split(X_test_valid, y_test_valid, test_size=0.5, random_state=1234)"
   ]
  },
  {
   "cell_type": "code",
   "execution_count": 53,
   "metadata": {
    "scrolled": true
   },
   "outputs": [
    {
     "name": "stdout",
     "output_type": "stream",
     "text": [
      "Размер train: 0.6\n",
      "Размер valid: 0.2\n",
      "Размер test: 0.2\n"
     ]
    }
   ],
   "source": [
    "print('Размер train:', X_train.shape[0] / X.shape[0])\n",
    "print('Размер valid:',X_valid.shape[0] / X.shape[0])\n",
    "print('Размер test:', X_test.shape[0] / X.shape[0])"
   ]
  },
  {
   "cell_type": "markdown",
   "metadata": {},
   "source": [
    "**Масштабирование признаков**"
   ]
  },
  {
   "cell_type": "code",
   "execution_count": 54,
   "metadata": {},
   "outputs": [],
   "source": [
    "numeric = ['CreditScore', 'Age', 'Tenure', 'Balance', 'NumOfProducts', 'EstimatedSalary']"
   ]
  },
  {
   "cell_type": "code",
   "execution_count": 55,
   "metadata": {},
   "outputs": [
    {
     "data": {
      "text/plain": [
       "StandardScaler()"
      ]
     },
     "execution_count": 55,
     "metadata": {},
     "output_type": "execute_result"
    }
   ],
   "source": [
    "scaler = StandardScaler()\n",
    "scaler.fit(X_train[numeric])"
   ]
  },
  {
   "cell_type": "code",
   "execution_count": 56,
   "metadata": {},
   "outputs": [],
   "source": [
    "X_train[numeric] = scaler.transform(X_train[numeric])\n",
    "X_valid[numeric] = scaler.transform(X_valid[numeric])\n",
    "X_test[numeric] = scaler.transform(X_test[numeric])"
   ]
  },
  {
   "cell_type": "markdown",
   "metadata": {},
   "source": [
    "**Вывод:**\n",
    "\n",
    "В ходе подготовки данных были выполнены следующие шаги:\n",
    "1. Столбцы <code>RowNumber</code>,<code>Surname</code> и <code>CustomerId</code> были удалены из выбрки\n",
    "2. К столбцы <code>Gender</code> и <code>Geography</code> было применено прямое кодирование\n",
    "3. К столбцам <code>CreditScore</code>, <code>Age</code>, <code>Tenure</code>, <code>Balance</code>, <code>NumOfProducts</code> и <code>EstimatedSalary</code> было применено масштабирование \n",
    "4. Исходная выборка была разделена на <ins>обучающуюю(60%)</ins>, <ins>валидационную(20%)</ins> и <ins>тестовую(20%)</ins>"
   ]
  },
  {
   "cell_type": "markdown",
   "metadata": {},
   "source": [
    "## Исследование задачи"
   ]
  },
  {
   "cell_type": "markdown",
   "metadata": {},
   "source": [
    "**Дисбаланс классов**"
   ]
  },
  {
   "cell_type": "code",
   "execution_count": 57,
   "metadata": {},
   "outputs": [
    {
     "data": {
      "text/plain": [
       "0    0.796333\n",
       "1    0.203667\n",
       "Name: Exited, dtype: float64"
      ]
     },
     "execution_count": 57,
     "metadata": {},
     "output_type": "execute_result"
    }
   ],
   "source": [
    "y_train.value_counts(normalize=True)"
   ]
  },
  {
   "cell_type": "markdown",
   "metadata": {},
   "source": [
    "**Вывод:**<br>\n",
    "Обучаюющая выборка содержит примерно 20% меток положительного класса"
   ]
  },
  {
   "cell_type": "markdown",
   "metadata": {},
   "source": [
    "**Построение моделей без учета дисбаланса классов**"
   ]
  },
  {
   "cell_type": "code",
   "execution_count": 58,
   "metadata": {
    "scrolled": true
   },
   "outputs": [
    {
     "name": "stdout",
     "output_type": "stream",
     "text": [
      "F1-score наилучшей модели на валидационной выборке: 0.541471048513302\n",
      "ROC-AUC наилучшей модели на валидационной выборке: 0.8156156652866576\n"
     ]
    }
   ],
   "source": [
    "# Случайный лес\n",
    "best_model = None\n",
    "best_result = 0\n",
    "for est in range(1, 11):\n",
    "    for depth in range(1, 10):\n",
    "        model = RandomForestClassifier(random_state=12345, n_estimators=est) # обучите модель с заданным количеством деревьев\n",
    "        model.fit(X_train, y_train) # обучите модель на тренировочной выборке\n",
    "#         result = model.score(X_valid, y_valid) # посчитайте качество модели на валидационной выборке\n",
    "        result = f1_score(y_valid, model.predict(X_valid))\n",
    "        if result > best_result:\n",
    "            best_model_rf = model# сохраните наилучшую модель\n",
    "            best_result = result#  сохраните наилучшее значение метрики accuracy на валидационных данных\n",
    "\n",
    "# print(\"Accuracy наилучшей модели на валидационной выборке:\", best_result)\n",
    "print(\"F1-score наилучшей модели на валидационной выборке:\", f1_score(y_valid, best_model_rf.predict(X_valid)))\n",
    "print(\"ROC-AUC наилучшей модели на валидационной выборке:\", roc_auc_score(y_valid, best_model_rf.predict_proba(X_valid)[:, 1]))"
   ]
  },
  {
   "cell_type": "code",
   "execution_count": 59,
   "metadata": {},
   "outputs": [
    {
     "name": "stdout",
     "output_type": "stream",
     "text": [
      "F1-score наилучшей модели на валидационной выборке: 0.3038461538461539\n",
      "ROC-AUC наилучшей модели на валидационной выборке: 0.7618943900010482\n"
     ]
    }
   ],
   "source": [
    "# Логистическая регрессия\n",
    "best_model_lr = None\n",
    "best_result = 0\n",
    "C_param_range = [0.001,0.01,0.1,1,10,100]\n",
    "for c in C_param_range:\n",
    "    model = lr = LogisticRegression(C=c, random_state=1234) # обучите модель с заданным количеством деревьев\n",
    "    model.fit(X_train, y_train) # обучите модель на тренировочной выборке\n",
    "#     result = model.score(X_valid, y_valid) # посчитайте качество модели на валидационной выборке\n",
    "    result = f1_score(y_valid, model.predict(X_valid))\n",
    "    if result > best_result:\n",
    "        best_model_lr = model# сохраните наилучшую модель\n",
    "        best_result = result#  сохраните наилучшее значение метрики accuracy на валидационных данных\n",
    "\n",
    "# print(\"Accuracy наилучшей модели на валидационной выборке:\", best_result)\n",
    "print(\"F1-score наилучшей модели на валидационной выборке:\", f1_score(y_valid, best_model_lr.predict(X_valid)))\n",
    "print(\"ROC-AUC наилучшей модели на валидационной выборке:\", roc_auc_score(y_valid, best_model_lr.predict_proba(X_valid)[:, 1]))"
   ]
  },
  {
   "cell_type": "code",
   "execution_count": 60,
   "metadata": {
    "scrolled": true
   },
   "outputs": [],
   "source": [
    "# # Константная модель\n",
    "# y_pred_constant = pd.Series([0]*X_valid.shape[0])\n",
    "# print(\"Accuracy константной модели на валидационной выборке:\",accuracy_score(y_valid, y_pred_constant))"
   ]
  },
  {
   "cell_type": "markdown",
   "metadata": {},
   "source": [
    "**Вывод:**<br>\n",
    "\n",
    "В ходе исследования на несбалансированной выборке строилось две модели:\n",
    "* Модель логистической регресии \n",
    "* Модель случайного леса\n",
    "\n",
    "Результаты исследования показали:\n",
    "\n",
    "1. <ins>Качество (F1-мера и площадь под ROC-кривой):</ins> <br>\n",
    "    Самое высокое качество у случайного леса: \n",
    "        F1-мера = 0.54 и площадь под ROC-кривой = 0.81\n",
    "    Самое низкое качество предсказания у логистической регрессии: \n",
    "        F1-мера = 0.3 и площадь под ROC-кривой = 0.76\n",
    "\n",
    "\n",
    "2. <ins>Скорость работы:</ins> <br>\n",
    "    Высокая скорость работы у логистической регрессии: у неё меньше всего параметров.<br>\n",
    "    Случайный лес медленнее всех: чем больше деревьев, тем неторопливее работает модель.<br>\n",
    "\n",
    "<ins>Общий итог</ins>: На несбалансированной выборке не удалось достичь нужного значения F1-меры\n",
    "\n",
    "\n",
    "<!-- Accuracy <ins>константной модели</ins> получиласть практически одинаковой с моделями *случайного леса* и *логистической регрессии*.<br>\n",
    "В связи с чем можно сделать вывод, что <ins>модель не прошла проверку на адекавтность</ins>  -->"
   ]
  },
  {
   "cell_type": "markdown",
   "metadata": {},
   "source": [
    "## Борьба с дисбалансом"
   ]
  },
  {
   "cell_type": "markdown",
   "metadata": {},
   "source": [
    "**Взвешивание классов**"
   ]
  },
  {
   "cell_type": "code",
   "execution_count": 61,
   "metadata": {
    "scrolled": true
   },
   "outputs": [
    {
     "name": "stdout",
     "output_type": "stream",
     "text": [
      "F1-score наилучшей модели на валидационной выборке: 0.535031847133758\n"
     ]
    }
   ],
   "source": [
    "# Случайный лес\n",
    "best_model_rf = None\n",
    "best_result = 0\n",
    "for est in range(1, 11):\n",
    "    model = RandomForestClassifier(random_state=12345, n_estimators=est, class_weight='balanced') # обучите модель с заданным количеством деревьев\n",
    "    model.fit(X_train, y_train) # обучите модель на тренировочной выборке\n",
    "#     result = model.score(X_valid, y_valid) # посчитайте качество модели на валидационной выборке\n",
    "    result = f1_score(y_valid, model.predict(X_valid))\n",
    "    if result > best_result:\n",
    "        best_model_rf = model# сохраните наилучшую модель\n",
    "        best_result = result#  сохраните наилучшее значение метрики accuracy на валидационных данных\n",
    "\n",
    "print(\"F1-score наилучшей модели на валидационной выборке:\", best_result)"
   ]
  },
  {
   "cell_type": "code",
   "execution_count": 62,
   "metadata": {
    "scrolled": true
   },
   "outputs": [
    {
     "name": "stdout",
     "output_type": "stream",
     "text": [
      "F1-score наилучшей модели на валидационной выборке: 0.46182846371347785\n"
     ]
    }
   ],
   "source": [
    "# Логистическая регрессия\n",
    "best_model = None\n",
    "best_result = 0\n",
    "C_param_range = [0.001,0.01,0.1,1,10,100]\n",
    "for c in C_param_range:\n",
    "    model = lr = LogisticRegression(C=c, random_state=1234, class_weight='balanced') # обучите модель с заданным количеством деревьев\n",
    "    model.fit(X_train, y_train) # обучите модель на тренировочной выборке\n",
    "#     result = model.score(X_valid, y_valid) # посчитайте качество модели на валидационной выборке\n",
    "    result = f1_score(y_valid, model.predict(X_valid))\n",
    "    if result > best_result:\n",
    "        best_model_lr = model# сохраните наилучшую модель\n",
    "        best_result = result#  сохраните наилучшее значение метрики accuracy на валидационных данных\n",
    "\n",
    "print(\"F1-score наилучшей модели на валидационной выборке:\", best_result)"
   ]
  },
  {
   "cell_type": "markdown",
   "metadata": {},
   "source": [
    "**Вывод:**<br>\n",
    "Взвешивание классов не позволило довести метрику (f1_score) до 0.59<br>\n",
    "Лучшее значение метрики (F1-мера = 0.535) достигается у модели случайного леса c <code>n_estimators=7</code>"
   ]
  },
  {
   "cell_type": "markdown",
   "metadata": {},
   "source": [
    "**Изменение порога**"
   ]
  },
  {
   "cell_type": "code",
   "execution_count": 63,
   "metadata": {
    "scrolled": true
   },
   "outputs": [
    {
     "name": "stdout",
     "output_type": "stream",
     "text": [
      "Порог = 0.20 | F1-мера = 0.521\n",
      "Порог = 0.22 | F1-мера = 0.521\n",
      "Порог = 0.24 | F1-мера = 0.543\n",
      "Порог = 0.26 | F1-мера = 0.543\n",
      "Порог = 0.28 | F1-мера = 0.543\n",
      "Порог = 0.30 | F1-мера = 0.543\n",
      "Порог = 0.32 | F1-мера = 0.543\n",
      "Порог = 0.34 | F1-мера = 0.551\n",
      "Порог = 0.36 | F1-мера = 0.551\n",
      "Порог = 0.38 | F1-мера = 0.551\n",
      "Порог = 0.40 | F1-мера = 0.551\n",
      "Порог = 0.42 | F1-мера = 0.551\n",
      "Порог = 0.44 | F1-мера = 0.551\n",
      "Порог = 0.46 | F1-мера = 0.535\n",
      "Порог = 0.48 | F1-мера = 0.535\n",
      "Порог = 0.50 | F1-мера = 0.535\n",
      "Порог = 0.52 | F1-мера = 0.535\n",
      "Порог = 0.54 | F1-мера = 0.535\n",
      "Порог = 0.56 | F1-мера = 0.473\n",
      "Порог = 0.58 | F1-мера = 0.473\n"
     ]
    }
   ],
   "source": [
    "probabilities_valid = best_model_rf.predict_proba(X_valid)\n",
    "probabilities_one_valid = probabilities_valid[:, 1]\n",
    "\n",
    "for threshold in np.arange(0.2, 0.6, 0.02):\n",
    "    predicted_valid = probabilities_one_valid > threshold\n",
    "    f1 = f1_score(y_valid, predicted_valid)\n",
    "    print(\"Порог = {:.2f} | F1-мера = {:.3f}\".format(threshold, f1))"
   ]
  },
  {
   "cell_type": "markdown",
   "metadata": {},
   "source": [
    "**Вывод:**<br>\n",
    "Изменение порога для лучшей модели случайного леса не позволило довести метрику (f1_score) до 0.59<br>\n",
    "Лучшее значение метрики (F1-мера = 0.551) достигается при пороге = 0.44"
   ]
  },
  {
   "cell_type": "markdown",
   "metadata": {},
   "source": [
    "**Увеличение выборки**"
   ]
  },
  {
   "cell_type": "code",
   "execution_count": 64,
   "metadata": {},
   "outputs": [],
   "source": [
    "def upsample(features, target, repeat):\n",
    "    features_zeros = features[target == 0]\n",
    "    features_ones = features[target == 1]\n",
    "    target_zeros = target[target == 0]\n",
    "    target_ones = target[target == 1]\n",
    "\n",
    "    features_upsampled = pd.concat([features_zeros] + [features_ones] * repeat)\n",
    "    target_upsampled = pd.concat([target_zeros] + [target_ones] * repeat)\n",
    "    \n",
    "    features_upsampled, target_upsampled = shuffle(\n",
    "        features_upsampled, target_upsampled, random_state=12345)\n",
    "    \n",
    "    return features_upsampled, target_upsampled"
   ]
  },
  {
   "cell_type": "code",
   "execution_count": 65,
   "metadata": {},
   "outputs": [],
   "source": [
    "X_upsampled, y_upsampled = upsample(X_train, y_train, 4)"
   ]
  },
  {
   "cell_type": "code",
   "execution_count": 66,
   "metadata": {},
   "outputs": [
    {
     "data": {
      "text/plain": [
       "1    0.50569\n",
       "0    0.49431\n",
       "Name: Exited, dtype: float64"
      ]
     },
     "execution_count": 66,
     "metadata": {},
     "output_type": "execute_result"
    }
   ],
   "source": [
    "y_upsampled.value_counts(normalize=True)"
   ]
  },
  {
   "cell_type": "code",
   "execution_count": 67,
   "metadata": {
    "scrolled": true
   },
   "outputs": [
    {
     "name": "stdout",
     "output_type": "stream",
     "text": [
      "F1-score наилучшей модели на валидационной выборке: 0.5956416464891041\n"
     ]
    }
   ],
   "source": [
    "# Случайный лес\n",
    "# best_model_rf = None\n",
    "# best_result = 0\n",
    "# for est in range(1, 25):\n",
    "#     for depth in range(1, 25):\n",
    "#         model = RandomForestClassifier(random_state=12345, n_estimators=est, max_depth=depth) # обучите модель с заданным количеством деревьев\n",
    "#         model.fit(X_upsampled, y_upsampled) # обучите модель на тренировочной выборке\n",
    "#     #     result = model.score(X_valid, y_valid) # посчитайте качество модели на валидационной выборке\n",
    "#         result = f1_score(y_valid, model.predict(X_valid))\n",
    "#         if result > best_result:\n",
    "#             best_model_rf = model# сохраните наилучшую модель\n",
    "#             best_result = result#  сохраните наилучшее значение метрики accuracy на валидационных данных\n",
    "\n",
    "# print(\"F1-score наилучшей модели на валидационной выборке:\", best_result)"
   ]
  },
  {
   "cell_type": "code",
   "execution_count": 68,
   "metadata": {},
   "outputs": [
    {
     "name": "stdout",
     "output_type": "stream",
     "text": [
      "F1-score наилучшей модели на валидационной выборке: 0.46268656716417916\n"
     ]
    }
   ],
   "source": [
    "# Логистическая регрессия\n",
    "best_model_lr = None\n",
    "best_result = 0\n",
    "# C_param_range = [0.001,0.01,0.1,1,10,100]\n",
    "C_param_range = [0.005,0.05,0.5,5,15,150]\n",
    "for c in C_param_range:\n",
    "    model = lr = LogisticRegression(C=c, random_state=1234) # обучите модель с заданным количеством деревьев\n",
    "    model.fit(X_upsampled, y_upsampled) # обучите модель на тренировочной выборке\n",
    "#     result = model.score(X_valid, y_valid) # посчитайте качество модели на валидационной выборке\n",
    "    result = f1_score(y_valid, model.predict(X_valid))\n",
    "    if result > best_result:\n",
    "        best_model_lr = model# сохраните наилучшую модель\n",
    "        best_result = result#  сохраните наилучшее значение метрики accuracy на валидационных данных\n",
    "\n",
    "print(\"F1-score наилучшей модели на валидационной выборке:\", best_result)"
   ]
  },
  {
   "cell_type": "markdown",
   "metadata": {},
   "source": [
    "**Вывод:** \n",
    "\n",
    "Результаты исседований показали, что лучшей моделью (по результатам метрики f1_score) для этого набора данных будет случайный лес, обученного на \"увеличенной выборке\" со следующими гиперпарааметрами:\n",
    "* <code>n_estimators=24</code>\n",
    "* <code>max_depth=11</code>\n",
    "* Все остальные гиперпармаетры остались без именений"
   ]
  },
  {
   "cell_type": "markdown",
   "metadata": {},
   "source": [
    "## Тестирование модели"
   ]
  },
  {
   "cell_type": "code",
   "execution_count": 69,
   "metadata": {
    "scrolled": true
   },
   "outputs": [
    {
     "name": "stdout",
     "output_type": "stream",
     "text": [
      "F1-score наилучшей модели на тестовой выборке: 0.619934282584885\n",
      "ROC-AUC  наилучшей модели на тестовой выборке: 0.8331015542574629\n",
      "Recall   наилучшей модели на тестовой выборке: 0.6446469248291572\n"
     ]
    }
   ],
   "source": [
    "test_result_f1 = f1_score(y_test, best_model_rf.predict(X_test))\n",
    "test_result_auc = roc_auc_score(y_test, best_model_rf.predict_proba(X_test)[:, 1])\n",
    "test_result_recall = recall_score(y_test, best_model_rf.predict(X_test))\n",
    "print(\"F1-score наилучшей модели на тестовой выборке:\", test_result_f1)\n",
    "print(\"ROC-AUC  наилучшей модели на тестовой выборке:\", test_result_auc)\n",
    "print(\"Recall   наилучшей модели на тестовой выборке:\", test_result_recall)"
   ]
  },
  {
   "cell_type": "markdown",
   "metadata": {},
   "source": [
    "**ROC-кривая**"
   ]
  },
  {
   "cell_type": "code",
   "execution_count": 70,
   "metadata": {},
   "outputs": [],
   "source": [
    "probabilities_test = model.predict_proba(X_test)\n",
    "probabilities_one_test = probabilities_test[:, 1]"
   ]
  },
  {
   "cell_type": "code",
   "execution_count": 71,
   "metadata": {},
   "outputs": [],
   "source": [
    "fpr, tpr, thresholds = roc_curve(y_test, probabilities_one_test)"
   ]
  },
  {
   "cell_type": "code",
   "execution_count": 72,
   "metadata": {
    "scrolled": true
   },
   "outputs": [
    {
     "data": {
      "image/png": "[encoded data removed]",
      "text/plain": [
       "<Figure size 432x288 with 1 Axes>"
      ]
     },
     "metadata": {
      "needs_background": "light"
     },
     "output_type": "display_data"
    }
   ],
   "source": [
    "plt.figure()\n",
    "# ROC-кривая случайной модели (выглядит как прямая)\n",
    "plt.plot([0, 1], [0, 1], linestyle='--')\n",
    "plt.plot(fpr, tpr)\n",
    "plt.xlim([0.0, 1.0])\n",
    "plt.ylim([0.0, 1.0])\n",
    "plt.xlabel('False Positive Rate')\n",
    "plt.ylabel('True Positive Rate')\n",
    "plt.title('ROC-кривая')\n",
    "plt.show()"
   ]
  },
  {
   "cell_type": "markdown",
   "metadata": {},
   "source": [
    "**Вывод:**\n",
    "\n",
    "\n",
    "\n",
    "\n",
    "Модель случайного леса показа на тестовой выборке следующие значения метрик:\n",
    "* F1-мера = 0.619\n",
    "* ROC-AUC = 0.833"
   ]
  },
  {
   "cell_type": "markdown",
   "metadata": {},
   "source": [
    "**Коснтантная молель**"
   ]
  },
  {
   "cell_type": "code",
   "execution_count": 73,
   "metadata": {},
   "outputs": [
    {
     "name": "stdout",
     "output_type": "stream",
     "text": [
      "F1-score константной модели на тестовой выборке: 0.35998359983599837\n",
      "ROC-AUC  константной модели на тестовой выборке: 0.5\n"
     ]
    }
   ],
   "source": [
    "dummy_model = DummyClassifier(strategy='constant', constant=1)\n",
    "dummy_model.fit(X_train, y_train)\n",
    "# f1_score(dummy_model.predict(X_test), y_test)\n",
    "\n",
    "test_result_f1 = f1_score(y_test, dummy_model.predict(X_test))\n",
    "test_result_auc = roc_auc_score(y_test, dummy_model.predict_proba(X_test)[:, 1])\n",
    "print(\"F1-score константной модели на тестовой выборке:\", test_result_f1)\n",
    "print(\"ROC-AUC  константной модели на тестовой выборке:\", test_result_auc)"
   ]
  },
  {
   "cell_type": "markdown",
   "metadata": {},
   "source": [
    "**Общий вывод:**"
   ]
  },
  {
   "cell_type": "markdown",
   "metadata": {},
   "source": [
    "Была построена модель, цель которой спрогнозировать уход клиента из банка, т.к. банковские маркетологи посчитали: сохранять текущих клиентов дешевле, чем привлекать новых. Входные данные - исторические данные о поведении клиентов и расторжении договоров с банком «Бета-Банк».\n",
    "\n",
    "<br>\n",
    "\n",
    "Необходимо было построить модель, которая имеет предельно большое значение F1-меры (не менне 0.59).\n",
    "\n",
    "<br>\n",
    "\n",
    "<ins>Результаты исседований показали:</ins> \n",
    "\n",
    "<br>\n",
    "\n",
    "**Модель:**<br>\n",
    "Лучшей моделью для этого набора данных будет случайный лес, обученный на \"увеличенной выборке\" со следующими гиперпараметрами:\n",
    "* <code>n_estimators=24</code>\n",
    "* <code>max_depth=11</code>\n",
    "* Все остальные гиперпармаетры остались без именений\n",
    "\n",
    "**Качество модели:**<br>\n",
    "Для оценки качетва модели использовались метрики: F1-мера и площадь под ROC-кривой.<br>\n",
    "Модель показала следующте результаты:\n",
    "* Обучающая выборка:\n",
    "        F1-мера = 0.865\n",
    "        Площадь под ROC-кривой = 0.988\n",
    "* Валидационная выборка:\n",
    "        F1-мера = 0.595\n",
    "        Площадь под ROC-кривой = 0.845\n",
    "* Тестовая выборка:\n",
    "        F1-мера = 0.619\n",
    "        Площадь под ROC-кривой = 0.833\n",
    "\n",
    "Так же полученная модель была сравнена с костантной молелью:<br>\n",
    "На тестовой выборке метрики качества слуйчаного леса оказались выше чем у костантной модели:\n",
    "* F1-мера: 0.615 против 0.359\n",
    "* Площадь под ROC-кривой: 0.833 против 0.5\n",
    "\n",
    "<br>\n",
    "\n",
    "**Решение задачи бизнеса:**<br>\n",
    "Модель способна верно детектировать практически 65% клиентов на отток"
   ]
  },
  {
   "cell_type": "markdown",
   "metadata": {},
   "source": [
    "## Чек-лист готовности проекта"
   ]
  },
  {
   "cell_type": "markdown",
   "metadata": {},
   "source": [
    "Поставьте 'x' в выполненных пунктах. Далее нажмите Shift+Enter."
   ]
  },
  {
   "cell_type": "markdown",
   "metadata": {},
   "source": [
    "- [x]  Jupyter Notebook открыт\n",
    "- [x]  Весь код выполняется без ошибок\n",
    "- [x]  Ячейки с кодом расположены в порядке исполнения\n",
    "- [x]  Выполнен шаг 1: данные подготовлены\n",
    "- [x]  Выполнен шаг 2: задача исследована\n",
    "    - [x]  Исследован баланс классов\n",
    "    - [x]  Изучены модели без учёта дисбаланса\n",
    "    - [x]  Написаны выводы по результатам исследования\n",
    "- [x]  Выполнен шаг 3: учтён дисбаланс\n",
    "    - [x]  Применено несколько способов борьбы с дисбалансом\n",
    "    - [x]  Написаны выводы по результатам исследования\n",
    "- [x]  Выполнен шаг 4: проведено тестирование\n",
    "- [x]  Удалось достичь *F1*-меры не менее 0.59\n",
    "- [x]  Исследована метрика *AUC-ROC*"
   ]
  },
  {
   "cell_type": "code",
   "execution_count": null,
   "metadata": {},
   "outputs": [],
   "source": []
  }
 ],
 "metadata": {
  "ExecuteTimeLog": [
   {
    "duration": 446,
    "start_time": "2023-02-15T14:25:15.068Z"
   },
   {
    "duration": 163,
    "start_time": "2023-02-15T14:25:27.555Z"
   },
   {
    "duration": 21,
    "start_time": "2023-02-15T14:25:36.379Z"
   },
   {
    "duration": 15,
    "start_time": "2023-02-15T14:25:46.374Z"
   },
   {
    "duration": 12,
    "start_time": "2023-02-15T14:32:20.530Z"
   },
   {
    "duration": 7,
    "start_time": "2023-02-15T14:33:32.021Z"
   },
   {
    "duration": 7,
    "start_time": "2023-02-15T14:34:27.937Z"
   },
   {
    "duration": 6,
    "start_time": "2023-02-15T14:34:39.144Z"
   },
   {
    "duration": 13,
    "start_time": "2023-02-15T14:35:49.433Z"
   },
   {
    "duration": 42,
    "start_time": "2023-02-15T15:03:25.923Z"
   },
   {
    "duration": 4,
    "start_time": "2023-02-15T15:04:42.002Z"
   },
   {
    "duration": 42,
    "start_time": "2023-02-15T15:04:43.618Z"
   },
   {
    "duration": 42,
    "start_time": "2023-02-15T15:05:54.674Z"
   },
   {
    "duration": 45,
    "start_time": "2023-02-15T15:06:05.339Z"
   },
   {
    "duration": 42,
    "start_time": "2023-02-15T15:06:53.289Z"
   },
   {
    "duration": 14,
    "start_time": "2023-02-15T15:14:38.386Z"
   },
   {
    "duration": 422,
    "start_time": "2023-02-16T06:52:10.895Z"
   },
   {
    "duration": 87,
    "start_time": "2023-02-16T06:52:11.319Z"
   },
   {
    "duration": 30,
    "start_time": "2023-02-16T06:52:11.451Z"
   },
   {
    "duration": 18,
    "start_time": "2023-02-16T06:52:11.651Z"
   },
   {
    "duration": 16,
    "start_time": "2023-02-16T06:52:12.991Z"
   },
   {
    "duration": 7,
    "start_time": "2023-02-16T06:52:13.276Z"
   },
   {
    "duration": 10,
    "start_time": "2023-02-16T06:52:14.117Z"
   },
   {
    "duration": 3,
    "start_time": "2023-02-16T06:52:17.238Z"
   },
   {
    "duration": 52,
    "start_time": "2023-02-16T06:52:17.947Z"
   },
   {
    "duration": 25,
    "start_time": "2023-02-16T06:52:19.805Z"
   },
   {
    "duration": 5,
    "start_time": "2023-02-16T06:52:56.302Z"
   },
   {
    "duration": 6,
    "start_time": "2023-02-16T06:58:25.793Z"
   },
   {
    "duration": 9,
    "start_time": "2023-02-16T07:02:11.545Z"
   },
   {
    "duration": 11,
    "start_time": "2023-02-16T07:02:18.580Z"
   },
   {
    "duration": 10,
    "start_time": "2023-02-16T07:03:34.429Z"
   },
   {
    "duration": 11,
    "start_time": "2023-02-16T07:03:35.722Z"
   },
   {
    "duration": 13,
    "start_time": "2023-02-16T07:03:59.046Z"
   },
   {
    "duration": 8,
    "start_time": "2023-02-16T07:06:39.159Z"
   },
   {
    "duration": 12,
    "start_time": "2023-02-16T07:06:40.119Z"
   },
   {
    "duration": 13,
    "start_time": "2023-02-16T07:06:49.302Z"
   },
   {
    "duration": 11,
    "start_time": "2023-02-16T07:07:20.316Z"
   },
   {
    "duration": 13,
    "start_time": "2023-02-16T07:07:21.219Z"
   },
   {
    "duration": 114,
    "start_time": "2023-02-16T08:27:18.691Z"
   },
   {
    "duration": 64,
    "start_time": "2023-02-16T08:28:12.125Z"
   },
   {
    "duration": 11,
    "start_time": "2023-02-16T08:28:18.937Z"
   },
   {
    "duration": 6,
    "start_time": "2023-02-16T08:28:37.223Z"
   },
   {
    "duration": 5,
    "start_time": "2023-02-16T08:29:03.125Z"
   },
   {
    "duration": 5,
    "start_time": "2023-02-16T08:29:11.557Z"
   },
   {
    "duration": 5,
    "start_time": "2023-02-16T08:29:17.350Z"
   },
   {
    "duration": 17,
    "start_time": "2023-02-16T08:29:27.206Z"
   },
   {
    "duration": 9,
    "start_time": "2023-02-16T08:29:43.410Z"
   },
   {
    "duration": 5,
    "start_time": "2023-02-16T08:29:52.170Z"
   },
   {
    "duration": 5,
    "start_time": "2023-02-16T08:33:45.536Z"
   },
   {
    "duration": 7,
    "start_time": "2023-02-16T08:39:04.188Z"
   },
   {
    "duration": 48,
    "start_time": "2023-02-16T08:39:31.845Z"
   },
   {
    "duration": 249,
    "start_time": "2023-02-16T08:40:03.325Z"
   },
   {
    "duration": 5,
    "start_time": "2023-02-16T08:40:15.405Z"
   },
   {
    "duration": 126,
    "start_time": "2023-02-16T08:40:51.525Z"
   },
   {
    "duration": 27,
    "start_time": "2023-02-16T08:43:09.989Z"
   },
   {
    "duration": 37237,
    "start_time": "2023-02-16T08:43:30.173Z"
   },
   {
    "duration": 3,
    "start_time": "2023-02-16T08:44:07.412Z"
   },
   {
    "duration": 4,
    "start_time": "2023-02-16T08:44:10.470Z"
   },
   {
    "duration": 3,
    "start_time": "2023-02-16T08:53:04.491Z"
   },
   {
    "duration": 31,
    "start_time": "2023-02-16T08:53:47.902Z"
   },
   {
    "duration": 10,
    "start_time": "2023-02-16T08:54:25.509Z"
   },
   {
    "duration": 5,
    "start_time": "2023-02-16T08:54:26.115Z"
   },
   {
    "duration": 6,
    "start_time": "2023-02-16T08:54:29.442Z"
   },
   {
    "duration": 450,
    "start_time": "2023-02-16T08:54:31.919Z"
   },
   {
    "duration": 3298,
    "start_time": "2023-02-16T08:54:54.516Z"
   },
   {
    "duration": 14,
    "start_time": "2023-02-16T08:57:15.723Z"
   },
   {
    "duration": 450,
    "start_time": "2023-02-16T09:00:49.173Z"
   },
   {
    "duration": 2188,
    "start_time": "2023-02-16T09:00:50.930Z"
   },
   {
    "duration": 11,
    "start_time": "2023-02-16T09:01:29.025Z"
   },
   {
    "duration": 3,
    "start_time": "2023-02-16T09:01:48.643Z"
   },
   {
    "duration": 6,
    "start_time": "2023-02-16T09:01:55.542Z"
   },
   {
    "duration": 6,
    "start_time": "2023-02-16T09:02:41.582Z"
   },
   {
    "duration": 21999,
    "start_time": "2023-02-16T09:14:25.733Z"
   },
   {
    "duration": 8,
    "start_time": "2023-02-16T09:15:08.700Z"
   },
   {
    "duration": 7788,
    "start_time": "2023-02-16T09:15:26.339Z"
   },
   {
    "duration": 90,
    "start_time": "2023-02-16T09:15:34.129Z"
   },
   {
    "duration": 193,
    "start_time": "2023-02-16T09:15:50.835Z"
   },
   {
    "duration": 97,
    "start_time": "2023-02-16T09:15:56.834Z"
   },
   {
    "duration": 48,
    "start_time": "2023-02-16T09:16:02.980Z"
   },
   {
    "duration": 18,
    "start_time": "2023-02-16T09:16:05.980Z"
   },
   {
    "duration": 497,
    "start_time": "2023-02-16T09:16:13.993Z"
   },
   {
    "duration": 494,
    "start_time": "2023-02-16T09:25:42.229Z"
   },
   {
    "duration": 491,
    "start_time": "2023-02-16T09:26:08.929Z"
   },
   {
    "duration": 492,
    "start_time": "2023-02-16T09:28:23.457Z"
   },
   {
    "duration": 6696,
    "start_time": "2023-02-16T09:29:21.032Z"
   },
   {
    "duration": 4,
    "start_time": "2023-02-16T09:33:04.994Z"
   },
   {
    "duration": 18,
    "start_time": "2023-02-16T09:33:05.650Z"
   },
   {
    "duration": 4,
    "start_time": "2023-02-16T09:34:35.224Z"
   },
   {
    "duration": 12,
    "start_time": "2023-02-16T09:34:46.272Z"
   },
   {
    "duration": 6,
    "start_time": "2023-02-16T09:36:08.176Z"
   },
   {
    "duration": 643,
    "start_time": "2023-02-16T09:38:10.224Z"
   },
   {
    "duration": 8456,
    "start_time": "2023-02-16T09:38:25.763Z"
   },
   {
    "duration": 641,
    "start_time": "2023-02-16T09:39:19.027Z"
   },
   {
    "duration": 6164,
    "start_time": "2023-02-16T09:39:19.670Z"
   },
   {
    "duration": 11,
    "start_time": "2023-02-16T09:41:23.793Z"
   },
   {
    "duration": 18,
    "start_time": "2023-02-16T09:48:51.044Z"
   },
   {
    "duration": 25,
    "start_time": "2023-02-16T09:49:05.339Z"
   },
   {
    "duration": 53,
    "start_time": "2023-02-16T09:49:18.640Z"
   },
   {
    "duration": 72,
    "start_time": "2023-02-16T09:49:43.593Z"
   },
   {
    "duration": 175,
    "start_time": "2023-02-16T09:50:05.963Z"
   },
   {
    "duration": 81,
    "start_time": "2023-02-16T09:50:21.341Z"
   },
   {
    "duration": 8,
    "start_time": "2023-02-16T09:51:39.631Z"
   },
   {
    "duration": 19,
    "start_time": "2023-02-16T09:52:26.834Z"
   },
   {
    "duration": 31,
    "start_time": "2023-02-16T09:52:44.650Z"
   },
   {
    "duration": 6,
    "start_time": "2023-02-16T09:53:21.840Z"
   },
   {
    "duration": 10,
    "start_time": "2023-02-16T09:53:44.647Z"
   },
   {
    "duration": 7,
    "start_time": "2023-02-16T09:53:45.670Z"
   },
   {
    "duration": 9,
    "start_time": "2023-02-16T09:53:51.940Z"
   },
   {
    "duration": 8,
    "start_time": "2023-02-16T09:53:52.432Z"
   },
   {
    "duration": 7,
    "start_time": "2023-02-16T09:54:17.950Z"
   },
   {
    "duration": 39,
    "start_time": "2023-02-16T09:54:27.608Z"
   },
   {
    "duration": 6,
    "start_time": "2023-02-16T09:54:28.168Z"
   },
   {
    "duration": 15,
    "start_time": "2023-02-16T09:54:36.036Z"
   },
   {
    "duration": 14,
    "start_time": "2023-02-16T09:54:37.032Z"
   },
   {
    "duration": 12,
    "start_time": "2023-02-16T09:54:49.244Z"
   },
   {
    "duration": 5,
    "start_time": "2023-02-16T09:54:50.140Z"
   },
   {
    "duration": 12,
    "start_time": "2023-02-16T09:54:55.039Z"
   },
   {
    "duration": 8,
    "start_time": "2023-02-16T09:54:55.540Z"
   },
   {
    "duration": 10,
    "start_time": "2023-02-16T09:55:00.044Z"
   },
   {
    "duration": 306,
    "start_time": "2023-02-16T09:55:57.698Z"
   },
   {
    "duration": 8560,
    "start_time": "2023-02-16T09:56:00.083Z"
   },
   {
    "duration": 728,
    "start_time": "2023-02-16T10:00:28.328Z"
   },
   {
    "duration": 5,
    "start_time": "2023-02-16T10:00:40.767Z"
   },
   {
    "duration": 1326,
    "start_time": "2023-02-16T10:00:53.757Z"
   },
   {
    "duration": 3577,
    "start_time": "2023-02-16T10:01:08.379Z"
   },
   {
    "duration": 11,
    "start_time": "2023-02-16T10:01:25.339Z"
   },
   {
    "duration": 4,
    "start_time": "2023-02-16T10:02:11.853Z"
   },
   {
    "duration": 69773,
    "start_time": "2023-02-16T10:03:05.582Z"
   },
   {
    "duration": 538,
    "start_time": "2023-02-16T10:14:12.860Z"
   },
   {
    "duration": 19,
    "start_time": "2023-02-16T10:16:26.265Z"
   },
   {
    "duration": 558,
    "start_time": "2023-02-16T10:17:00.965Z"
   },
   {
    "duration": 9844,
    "start_time": "2023-02-16T10:17:21.279Z"
   },
   {
    "duration": 555,
    "start_time": "2023-02-16T10:17:56.544Z"
   },
   {
    "duration": 9773,
    "start_time": "2023-02-16T10:17:58.390Z"
   },
   {
    "duration": 648,
    "start_time": "2023-02-16T10:18:38.139Z"
   },
   {
    "duration": 10456,
    "start_time": "2023-02-16T10:18:38.789Z"
   },
   {
    "duration": 120,
    "start_time": "2023-02-16T10:18:49.259Z"
   },
   {
    "duration": 22,
    "start_time": "2023-02-16T10:18:56.629Z"
   },
   {
    "duration": 18,
    "start_time": "2023-02-16T10:18:57.231Z"
   },
   {
    "duration": 6,
    "start_time": "2023-02-16T10:18:57.870Z"
   },
   {
    "duration": 69922,
    "start_time": "2023-02-16T10:18:59.037Z"
   },
   {
    "duration": 10002,
    "start_time": "2023-02-16T10:20:08.961Z"
   },
   {
    "duration": 27,
    "start_time": "2023-02-16T10:20:53.377Z"
   },
   {
    "duration": 8,
    "start_time": "2023-02-16T10:23:01.439Z"
   },
   {
    "duration": 13,
    "start_time": "2023-02-16T10:32:51.943Z"
   },
   {
    "duration": 9,
    "start_time": "2023-02-16T10:33:20.964Z"
   },
   {
    "duration": 4,
    "start_time": "2023-02-16T10:33:46.738Z"
   },
   {
    "duration": 7,
    "start_time": "2023-02-16T10:33:56.940Z"
   },
   {
    "duration": 11,
    "start_time": "2023-02-16T10:34:37.094Z"
   },
   {
    "duration": 8,
    "start_time": "2023-02-16T10:35:00.648Z"
   },
   {
    "duration": 135,
    "start_time": "2023-02-16T10:35:17.362Z"
   },
   {
    "duration": 1470,
    "start_time": "2023-02-16T10:38:15.949Z"
   },
   {
    "duration": 37,
    "start_time": "2023-02-16T10:38:18.844Z"
   },
   {
    "duration": 20,
    "start_time": "2023-02-16T10:38:19.437Z"
   },
   {
    "duration": 13,
    "start_time": "2023-02-16T10:38:19.894Z"
   },
   {
    "duration": 11,
    "start_time": "2023-02-16T10:38:21.091Z"
   },
   {
    "duration": 11,
    "start_time": "2023-02-16T10:38:21.539Z"
   },
   {
    "duration": 7,
    "start_time": "2023-02-16T10:38:22.397Z"
   },
   {
    "duration": 3,
    "start_time": "2023-02-16T10:38:23.362Z"
   },
   {
    "duration": 37,
    "start_time": "2023-02-16T10:38:24.156Z"
   },
   {
    "duration": 13,
    "start_time": "2023-02-16T10:38:25.751Z"
   },
   {
    "duration": 5,
    "start_time": "2023-02-16T10:38:26.754Z"
   },
   {
    "duration": 13,
    "start_time": "2023-02-16T10:38:27.457Z"
   },
   {
    "duration": 13,
    "start_time": "2023-02-16T10:38:27.957Z"
   },
   {
    "duration": 8,
    "start_time": "2023-02-16T10:38:28.797Z"
   },
   {
    "duration": 4,
    "start_time": "2023-02-16T10:38:29.151Z"
   },
   {
    "duration": 6,
    "start_time": "2023-02-16T10:38:30.394Z"
   },
   {
    "duration": 529,
    "start_time": "2023-02-16T10:40:17.349Z"
   },
   {
    "duration": 10393,
    "start_time": "2023-02-16T10:40:18.940Z"
   },
   {
    "duration": 9,
    "start_time": "2023-02-16T10:40:29.335Z"
   },
   {
    "duration": 490,
    "start_time": "2023-02-16T10:40:41.344Z"
   },
   {
    "duration": 10747,
    "start_time": "2023-02-16T10:40:42.890Z"
   },
   {
    "duration": 39,
    "start_time": "2023-02-16T10:43:22.841Z"
   },
   {
    "duration": 5,
    "start_time": "2023-02-16T10:46:39.747Z"
   },
   {
    "duration": 1431,
    "start_time": "2023-02-16T10:49:40.955Z"
   },
   {
    "duration": 44,
    "start_time": "2023-02-16T10:49:42.444Z"
   },
   {
    "duration": 29,
    "start_time": "2023-02-16T10:49:42.930Z"
   },
   {
    "duration": 13,
    "start_time": "2023-02-16T10:49:43.382Z"
   },
   {
    "duration": 16,
    "start_time": "2023-02-16T10:49:44.740Z"
   },
   {
    "duration": 5,
    "start_time": "2023-02-16T10:49:44.971Z"
   },
   {
    "duration": 9,
    "start_time": "2023-02-16T10:49:45.453Z"
   },
   {
    "duration": 4,
    "start_time": "2023-02-16T10:49:45.956Z"
   },
   {
    "duration": 62,
    "start_time": "2023-02-16T10:49:46.486Z"
   },
   {
    "duration": 12,
    "start_time": "2023-02-16T10:49:47.373Z"
   },
   {
    "duration": 4,
    "start_time": "2023-02-16T10:49:47.964Z"
   },
   {
    "duration": 20,
    "start_time": "2023-02-16T10:49:48.536Z"
   },
   {
    "duration": 13,
    "start_time": "2023-02-16T10:49:48.785Z"
   },
   {
    "duration": 9,
    "start_time": "2023-02-16T10:49:49.374Z"
   },
   {
    "duration": 4,
    "start_time": "2023-02-16T10:49:49.649Z"
   },
   {
    "duration": 6,
    "start_time": "2023-02-16T10:49:50.498Z"
   },
   {
    "duration": 519,
    "start_time": "2023-02-16T10:49:51.448Z"
   },
   {
    "duration": 11470,
    "start_time": "2023-02-16T10:49:51.969Z"
   },
   {
    "duration": 65,
    "start_time": "2023-02-16T10:50:03.452Z"
   },
   {
    "duration": 575,
    "start_time": "2023-02-16T10:50:03.521Z"
   },
   {
    "duration": 9940,
    "start_time": "2023-02-16T10:50:04.099Z"
   },
   {
    "duration": 127,
    "start_time": "2023-02-16T10:50:14.040Z"
   },
   {
    "duration": 3,
    "start_time": "2023-02-16T10:50:14.169Z"
   },
   {
    "duration": 43,
    "start_time": "2023-02-16T10:50:14.174Z"
   },
   {
    "duration": 17,
    "start_time": "2023-02-16T10:50:14.218Z"
   },
   {
    "duration": 67261,
    "start_time": "2023-02-16T10:50:14.236Z"
   },
   {
    "duration": 10528,
    "start_time": "2023-02-16T10:51:21.499Z"
   },
   {
    "duration": 125,
    "start_time": "2023-02-16T10:51:32.032Z"
   },
   {
    "duration": 7,
    "start_time": "2023-02-16T10:51:32.158Z"
   },
   {
    "duration": 61,
    "start_time": "2023-02-16T10:51:32.166Z"
   },
   {
    "duration": 229,
    "start_time": "2023-02-16T10:51:32.237Z"
   },
   {
    "duration": 1521,
    "start_time": "2023-02-17T08:18:22.589Z"
   },
   {
    "duration": 78,
    "start_time": "2023-02-17T08:18:25.359Z"
   },
   {
    "duration": 17,
    "start_time": "2023-02-17T08:18:25.886Z"
   },
   {
    "duration": 17,
    "start_time": "2023-02-17T08:18:26.346Z"
   },
   {
    "duration": 11,
    "start_time": "2023-02-17T08:18:27.594Z"
   },
   {
    "duration": 6,
    "start_time": "2023-02-17T08:18:27.952Z"
   },
   {
    "duration": 8,
    "start_time": "2023-02-17T08:18:28.681Z"
   },
   {
    "duration": 5,
    "start_time": "2023-02-17T08:18:29.498Z"
   },
   {
    "duration": 42,
    "start_time": "2023-02-17T08:18:31.182Z"
   },
   {
    "duration": 12,
    "start_time": "2023-02-17T08:18:32.598Z"
   },
   {
    "duration": 4,
    "start_time": "2023-02-17T08:18:33.556Z"
   },
   {
    "duration": 14,
    "start_time": "2023-02-17T08:18:34.633Z"
   },
   {
    "duration": 12,
    "start_time": "2023-02-17T08:18:36.021Z"
   },
   {
    "duration": 8,
    "start_time": "2023-02-17T08:18:37.123Z"
   },
   {
    "duration": 5,
    "start_time": "2023-02-17T08:18:39.052Z"
   },
   {
    "duration": 12,
    "start_time": "2023-02-17T08:18:43.688Z"
   },
   {
    "duration": 8,
    "start_time": "2023-02-17T08:18:47.859Z"
   },
   {
    "duration": 1370,
    "start_time": "2023-02-17T08:19:27.094Z"
   },
   {
    "duration": 37,
    "start_time": "2023-02-17T08:19:28.466Z"
   },
   {
    "duration": 15,
    "start_time": "2023-02-17T08:19:28.505Z"
   },
   {
    "duration": 11,
    "start_time": "2023-02-17T08:19:28.522Z"
   },
   {
    "duration": 13,
    "start_time": "2023-02-17T08:19:29.014Z"
   },
   {
    "duration": 5,
    "start_time": "2023-02-17T08:19:29.285Z"
   },
   {
    "duration": 8,
    "start_time": "2023-02-17T08:19:29.777Z"
   },
   {
    "duration": 6,
    "start_time": "2023-02-17T08:19:30.266Z"
   },
   {
    "duration": 43,
    "start_time": "2023-02-17T08:19:31.194Z"
   },
   {
    "duration": 14,
    "start_time": "2023-02-17T08:19:31.873Z"
   },
   {
    "duration": 4,
    "start_time": "2023-02-17T08:19:32.354Z"
   },
   {
    "duration": 12,
    "start_time": "2023-02-17T08:19:33.078Z"
   },
   {
    "duration": 12,
    "start_time": "2023-02-17T08:19:34.053Z"
   },
   {
    "duration": 8,
    "start_time": "2023-02-17T08:19:34.743Z"
   },
   {
    "duration": 4,
    "start_time": "2023-02-17T08:19:35.105Z"
   },
   {
    "duration": 8,
    "start_time": "2023-02-17T08:19:36.185Z"
   },
   {
    "duration": 9,
    "start_time": "2023-02-17T08:19:36.805Z"
   },
   {
    "duration": 12,
    "start_time": "2023-02-17T08:24:53.378Z"
   },
   {
    "duration": 1416,
    "start_time": "2023-02-17T08:44:09.043Z"
   },
   {
    "duration": 41,
    "start_time": "2023-02-17T08:44:10.461Z"
   },
   {
    "duration": 20,
    "start_time": "2023-02-17T08:44:10.504Z"
   },
   {
    "duration": 18,
    "start_time": "2023-02-17T08:44:10.526Z"
   },
   {
    "duration": 12,
    "start_time": "2023-02-17T08:44:10.799Z"
   },
   {
    "duration": 5,
    "start_time": "2023-02-17T08:44:10.979Z"
   },
   {
    "duration": 11,
    "start_time": "2023-02-17T08:44:11.323Z"
   },
   {
    "duration": 5,
    "start_time": "2023-02-17T08:44:12.073Z"
   },
   {
    "duration": 41,
    "start_time": "2023-02-17T08:44:13.450Z"
   },
   {
    "duration": 14,
    "start_time": "2023-02-17T08:44:14.679Z"
   },
   {
    "duration": 5,
    "start_time": "2023-02-17T08:44:15.591Z"
   },
   {
    "duration": 14,
    "start_time": "2023-02-17T08:44:16.758Z"
   },
   {
    "duration": 13,
    "start_time": "2023-02-17T08:44:18.250Z"
   },
   {
    "duration": 10,
    "start_time": "2023-02-17T08:44:19.140Z"
   },
   {
    "duration": 4,
    "start_time": "2023-02-17T08:44:20.039Z"
   },
   {
    "duration": 3,
    "start_time": "2023-02-17T08:44:21.522Z"
   },
   {
    "duration": 9,
    "start_time": "2023-02-17T08:44:22.412Z"
   },
   {
    "duration": 26,
    "start_time": "2023-02-17T08:44:24.954Z"
   },
   {
    "duration": 1402,
    "start_time": "2023-02-17T08:45:12.609Z"
   },
   {
    "duration": 42,
    "start_time": "2023-02-17T08:45:14.013Z"
   },
   {
    "duration": 17,
    "start_time": "2023-02-17T08:45:14.057Z"
   },
   {
    "duration": 13,
    "start_time": "2023-02-17T08:45:14.076Z"
   },
   {
    "duration": 11,
    "start_time": "2023-02-17T08:45:14.091Z"
   },
   {
    "duration": 6,
    "start_time": "2023-02-17T08:45:14.299Z"
   },
   {
    "duration": 8,
    "start_time": "2023-02-17T08:45:14.689Z"
   },
   {
    "duration": 5,
    "start_time": "2023-02-17T08:45:15.045Z"
   },
   {
    "duration": 47,
    "start_time": "2023-02-17T08:45:15.920Z"
   },
   {
    "duration": 14,
    "start_time": "2023-02-17T08:45:16.648Z"
   },
   {
    "duration": 4,
    "start_time": "2023-02-17T08:45:17.088Z"
   },
   {
    "duration": 14,
    "start_time": "2023-02-17T08:45:17.887Z"
   },
   {
    "duration": 13,
    "start_time": "2023-02-17T08:45:18.895Z"
   },
   {
    "duration": 9,
    "start_time": "2023-02-17T08:45:19.593Z"
   },
   {
    "duration": 4,
    "start_time": "2023-02-17T08:45:19.945Z"
   },
   {
    "duration": 3,
    "start_time": "2023-02-17T08:45:20.931Z"
   },
   {
    "duration": 9,
    "start_time": "2023-02-17T08:45:21.195Z"
   },
   {
    "duration": 29,
    "start_time": "2023-02-17T08:45:21.919Z"
   },
   {
    "duration": 7,
    "start_time": "2023-02-17T08:45:30.098Z"
   },
   {
    "duration": 3927,
    "start_time": "2023-02-17T08:45:34.785Z"
   },
   {
    "duration": 1430,
    "start_time": "2023-02-17T08:46:58.799Z"
   },
   {
    "duration": 1371,
    "start_time": "2023-02-17T08:47:25.768Z"
   },
   {
    "duration": 3,
    "start_time": "2023-02-17T09:01:35.844Z"
   },
   {
    "duration": 21,
    "start_time": "2023-02-17T09:03:59.859Z"
   },
   {
    "duration": 1474,
    "start_time": "2023-02-17T09:05:03.997Z"
   },
   {
    "duration": 37,
    "start_time": "2023-02-17T09:05:05.473Z"
   },
   {
    "duration": 18,
    "start_time": "2023-02-17T09:05:12.844Z"
   },
   {
    "duration": 12,
    "start_time": "2023-02-17T09:05:13.100Z"
   },
   {
    "duration": 12,
    "start_time": "2023-02-17T09:05:13.763Z"
   },
   {
    "duration": 6,
    "start_time": "2023-02-17T09:05:13.976Z"
   },
   {
    "duration": 9,
    "start_time": "2023-02-17T09:05:14.398Z"
   },
   {
    "duration": 5,
    "start_time": "2023-02-17T09:05:14.811Z"
   },
   {
    "duration": 43,
    "start_time": "2023-02-17T09:05:15.635Z"
   },
   {
    "duration": 12,
    "start_time": "2023-02-17T09:05:16.283Z"
   },
   {
    "duration": 4,
    "start_time": "2023-02-17T09:05:16.763Z"
   },
   {
    "duration": 13,
    "start_time": "2023-02-17T09:05:17.510Z"
   },
   {
    "duration": 13,
    "start_time": "2023-02-17T09:05:18.180Z"
   },
   {
    "duration": 15,
    "start_time": "2023-02-17T09:05:18.639Z"
   },
   {
    "duration": 5,
    "start_time": "2023-02-17T09:05:18.877Z"
   },
   {
    "duration": 3,
    "start_time": "2023-02-17T09:05:19.383Z"
   },
   {
    "duration": 10,
    "start_time": "2023-02-17T09:05:19.695Z"
   },
   {
    "duration": 23,
    "start_time": "2023-02-17T09:05:19.971Z"
   },
   {
    "duration": 6,
    "start_time": "2023-02-17T09:05:22.703Z"
   },
   {
    "duration": 3864,
    "start_time": "2023-02-17T09:05:23.720Z"
   },
   {
    "duration": 2244,
    "start_time": "2023-02-17T09:05:27.586Z"
   },
   {
    "duration": 3,
    "start_time": "2023-02-17T09:05:29.832Z"
   },
   {
    "duration": 554,
    "start_time": "2023-02-17T09:05:29.838Z"
   },
   {
    "duration": 1245,
    "start_time": "2023-02-17T09:05:30.394Z"
   },
   {
    "duration": 216,
    "start_time": "2023-02-17T09:05:31.641Z"
   },
   {
    "duration": 4,
    "start_time": "2023-02-17T09:06:54.123Z"
   },
   {
    "duration": 11,
    "start_time": "2023-02-17T09:06:54.546Z"
   },
   {
    "duration": 6,
    "start_time": "2023-02-17T09:06:57.990Z"
   },
   {
    "duration": 57861,
    "start_time": "2023-02-17T09:07:02.478Z"
   },
   {
    "duration": 1601,
    "start_time": "2023-02-17T09:09:29.845Z"
   },
   {
    "duration": 41,
    "start_time": "2023-02-17T09:09:50.490Z"
   },
   {
    "duration": 59,
    "start_time": "2023-02-17T10:13:58.452Z"
   },
   {
    "duration": 34,
    "start_time": "2023-02-17T10:15:26.410Z"
   },
   {
    "duration": 104,
    "start_time": "2023-02-17T10:19:07.161Z"
   },
   {
    "duration": 4,
    "start_time": "2023-02-17T10:19:45.441Z"
   },
   {
    "duration": 8,
    "start_time": "2023-02-17T10:20:04.048Z"
   },
   {
    "duration": 4,
    "start_time": "2023-02-17T10:25:21.153Z"
   },
   {
    "duration": 57,
    "start_time": "2023-02-17T10:26:50.382Z"
   },
   {
    "duration": 4,
    "start_time": "2023-02-17T10:42:08.096Z"
   },
   {
    "duration": 39,
    "start_time": "2023-02-17T10:42:08.520Z"
   },
   {
    "duration": 16,
    "start_time": "2023-02-17T10:42:08.910Z"
   },
   {
    "duration": 13,
    "start_time": "2023-02-17T10:42:09.305Z"
   },
   {
    "duration": 13,
    "start_time": "2023-02-17T10:42:10.411Z"
   },
   {
    "duration": 7,
    "start_time": "2023-02-17T10:42:10.755Z"
   },
   {
    "duration": 8,
    "start_time": "2023-02-17T10:42:11.413Z"
   },
   {
    "duration": 6,
    "start_time": "2023-02-17T10:42:11.995Z"
   },
   {
    "duration": 50,
    "start_time": "2023-02-17T10:42:13.307Z"
   },
   {
    "duration": 14,
    "start_time": "2023-02-17T10:42:14.263Z"
   },
   {
    "duration": 5,
    "start_time": "2023-02-17T10:42:14.891Z"
   },
   {
    "duration": 17,
    "start_time": "2023-02-17T10:42:15.856Z"
   },
   {
    "duration": 17,
    "start_time": "2023-02-17T10:42:16.816Z"
   },
   {
    "duration": 10,
    "start_time": "2023-02-17T10:42:17.487Z"
   },
   {
    "duration": 5,
    "start_time": "2023-02-17T10:42:17.855Z"
   },
   {
    "duration": 3,
    "start_time": "2023-02-17T10:42:18.595Z"
   },
   {
    "duration": 9,
    "start_time": "2023-02-17T10:42:18.912Z"
   },
   {
    "duration": 23,
    "start_time": "2023-02-17T10:42:19.260Z"
   },
   {
    "duration": 6,
    "start_time": "2023-02-17T10:42:22.182Z"
   },
   {
    "duration": 3837,
    "start_time": "2023-02-17T10:42:23.203Z"
   },
   {
    "duration": 888,
    "start_time": "2023-02-17T10:42:27.043Z"
   },
   {
    "duration": 2,
    "start_time": "2023-02-17T10:42:27.933Z"
   },
   {
    "duration": 610,
    "start_time": "2023-02-17T10:42:27.937Z"
   },
   {
    "duration": 1286,
    "start_time": "2023-02-17T10:42:28.549Z"
   },
   {
    "duration": 218,
    "start_time": "2023-02-17T10:42:29.837Z"
   },
   {
    "duration": 4,
    "start_time": "2023-02-17T10:42:30.058Z"
   },
   {
    "duration": 18,
    "start_time": "2023-02-17T10:42:30.064Z"
   },
   {
    "duration": 11,
    "start_time": "2023-02-17T10:42:30.084Z"
   },
   {
    "duration": 56781,
    "start_time": "2023-02-17T10:42:30.097Z"
   },
   {
    "duration": 1557,
    "start_time": "2023-02-17T10:43:26.880Z"
   },
   {
    "duration": 139,
    "start_time": "2023-02-17T10:43:28.527Z"
   },
   {
    "duration": 7,
    "start_time": "2023-02-17T10:43:28.669Z"
   },
   {
    "duration": 155,
    "start_time": "2023-02-17T10:43:28.678Z"
   },
   {
    "duration": 143,
    "start_time": "2023-02-17T10:43:28.835Z"
   },
   {
    "duration": 10,
    "start_time": "2023-02-17T10:43:28.980Z"
   },
   {
    "duration": 5,
    "start_time": "2023-02-17T10:49:28.963Z"
   }
  ],
  "kernelspec": {
   "display_name": "Python 3",
   "language": "python",
   "name": "python3"
  },
  "language_info": {
   "codemirror_mode": {
    "name": "ipython",
    "version": 3
   },
   "file_extension": ".py",
   "mimetype": "text/x-python",
   "name": "python",
   "nbconvert_exporter": "python",
   "pygments_lexer": "ipython3",
   "version": "3.6.13"
  },
  "toc": {
   "base_numbering": 1,
   "nav_menu": {},
   "number_sections": true,
   "sideBar": true,
   "skip_h1_title": true,
   "title_cell": "Содержание",
   "title_sidebar": "Contents",
   "toc_cell": true,
   "toc_position": {},
   "toc_section_display": true,
   "toc_window_display": false
  }
 },
 "nbformat": 4,
 "nbformat_minor": 2
}
